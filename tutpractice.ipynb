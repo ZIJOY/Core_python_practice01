{
 "cells": [
  {
   "cell_type": "markdown",
   "metadata": {},
   "source": [
    "## 1: Simple Python Program to Add Two Numbers"
   ]
  },
  {
   "cell_type": "code",
   "execution_count": 1,
   "metadata": {},
   "outputs": [
    {
     "name": "stdout",
     "output_type": "stream",
     "text": [
      "Sum =  30\n"
     ]
    }
   ],
   "source": [
    "a = 10\n",
    "b = 20\n",
    "sum = a+b\n",
    "print(\"Sum = \", sum)"
   ]
  },
  {
   "cell_type": "code",
   "execution_count": 2,
   "metadata": {},
   "outputs": [
    {
     "name": "stdout",
     "output_type": "stream",
     "text": [
      "Addition =  70\n"
     ]
    }
   ],
   "source": [
    "a = 30\n",
    "b = 40\n",
    "Add = a + b\n",
    "print(\"Addition = \", Add)"
   ]
  },
  {
   "cell_type": "code",
   "execution_count": 4,
   "metadata": {},
   "outputs": [
    {
     "name": "stdout",
     "output_type": "stream",
     "text": [
      "Sum = 250\n"
     ]
    }
   ],
   "source": [
    "a = 120\n",
    "b = 130\n",
    "Sum = a+b\n",
    "print(\"Sum =\", Sum)\n"
   ]
  },
  {
   "cell_type": "markdown",
   "metadata": {},
   "source": [
    "# User input"
   ]
  },
  {
   "cell_type": "markdown",
   "metadata": {},
   "source": [
    "User Input\n",
    "Take input two numbers from user in program.\n",
    "Calculate the sum of two numbers and store it in variable.\n",
    "Print sum of two number"
   ]
  },
  {
   "cell_type": "code",
   "execution_count": 5,
   "metadata": {},
   "outputs": [
    {
     "name": "stdout",
     "output_type": "stream",
     "text": [
      "sum = 30\n"
     ]
    }
   ],
   "source": [
    "a = int(input(\"Enter the 1st number: \"))\n",
    "b = int(input(\"Enter the 2nd number: \"))\n",
    "sum = a+b\n",
    "print(\"sum =\", sum)\n"
   ]
  },
  {
   "cell_type": "code",
   "execution_count": 6,
   "metadata": {},
   "outputs": [
    {
     "name": "stdout",
     "output_type": "stream",
     "text": [
      "sum: 270\n"
     ]
    }
   ],
   "source": [
    "A = int(input(\"Enter the number: \"))\n",
    "B = int(input(\"Enter the number: \"))\n",
    "sum = A+B\n",
    "print(\"sum:\", sum)"
   ]
  },
  {
   "cell_type": "code",
   "execution_count": 7,
   "metadata": {},
   "outputs": [
    {
     "name": "stdout",
     "output_type": "stream",
     "text": [
      "The sum of the number:  220\n"
     ]
    }
   ],
   "source": [
    "X = int(input(\"Enter the number:\"))\n",
    "Y = int(input(\"Enter the number:\"))\n",
    "Sum = X+Y\n",
    "print(\"The sum of the number: \", Sum)\n",
    "\n"
   ]
  },
  {
   "cell_type": "markdown",
   "metadata": {},
   "source": [
    "# Using Functions"
   ]
  },
  {
   "cell_type": "code",
   "execution_count": 10,
   "metadata": {},
   "outputs": [
    {
     "name": "stdout",
     "output_type": "stream",
     "text": [
      "The sum is 901\n"
     ]
    }
   ],
   "source": [
    "def add_numbers(x,y):\n",
    "    sum = x+y \n",
    "    return sum\n",
    "num1 = int(input(\"Enter number 1: \"))\n",
    "num2 = int(input(\"Enter number 2: \"))\n",
    "print(\"The sum is\", add_numbers(num1, num2))"
   ]
  },
  {
   "cell_type": "code",
   "execution_count": 11,
   "metadata": {},
   "outputs": [
    {
     "name": "stdout",
     "output_type": "stream",
     "text": [
      "The sum is  30\n"
     ]
    }
   ],
   "source": [
    "def add_numbers(x, y):\n",
    "    sum = x + y\n",
    "    return sum\n",
    "a = int(input(\"Enter number: \"))\n",
    "b = int(input(\"Enter number: \"))\n",
    "print(\"The sum is \", add_numbers(a, b))"
   ]
  },
  {
   "cell_type": "code",
   "execution_count": 12,
   "metadata": {},
   "outputs": [
    {
     "name": "stdout",
     "output_type": "stream",
     "text": [
      "The sum is 3\n"
     ]
    }
   ],
   "source": [
    "# The use of user defined function\n",
    "\n",
    "def add_numbers(x, y):\n",
    "    sum = x + y\n",
    "    return sum\n",
    "a = int(input(\"Enter the number: \"))\n",
    "b = int(input(\"Enter the number: \"))\n",
    "print(\"The sum is\", add_numbers(a, b))\n"
   ]
  },
  {
   "cell_type": "markdown",
   "metadata": {},
   "source": [
    "# 1: Find/Calculate the sum of n natural numbers using loop and range function"
   ]
  },
  {
   "cell_type": "code",
   "execution_count": 2,
   "metadata": {},
   "outputs": [
    {
     "name": "stdout",
     "output_type": "stream",
     "text": [
      "Sum of first  12 numbers is: 78\n"
     ]
    }
   ],
   "source": [
    "n = int(input(\"Entre the n natural number: \"))\n",
    "sum = 0\n",
    "for num in range (0, n+1, 1):\n",
    "    sum = sum + num\n",
    "print(\"Sum of first \", n, \"numbers is:\", sum)\n",
    "\n"
   ]
  },
  {
   "cell_type": "code",
   "execution_count": 4,
   "metadata": {},
   "outputs": [
    {
     "name": "stdout",
     "output_type": "stream",
     "text": [
      "Sum of first  10 numbers is 55\n"
     ]
    }
   ],
   "source": [
    "n = int(input(\"Enter the n number:\"))\n",
    "sum = 0\n",
    "for num in range (0, n+1, 1):\n",
    "    sum = sum + num\n",
    "print(\"Sum of first \", n, \"numbers is\", sum)"
   ]
  },
  {
   "cell_type": "code",
   "execution_count": 5,
   "metadata": {},
   "outputs": [
    {
     "name": "stdout",
     "output_type": "stream",
     "text": [
      "The summ of first  12 number is 78\n"
     ]
    }
   ],
   "source": [
    "n = int(input(\"Enter the n number: \"))\n",
    "sum = 0\n",
    "for num in range (0, n+1, 1):\n",
    "    sum = sum + num\n",
    "print(\"The summ of first \", n, \"number is\", sum)\n"
   ]
  },
  {
   "cell_type": "code",
   "execution_count": 17,
   "metadata": {},
   "outputs": [
    {
     "name": "stdout",
     "output_type": "stream",
     "text": [
      "The sum of first 5 number is 14\n"
     ]
    }
   ],
   "source": [
    "n = int(input(\"Enter the n number\"))\n",
    "sum = 0\n",
    "for num in range (2, n+1, 1):\n",
    "    sum = sum + num\n",
    "print(\"The sum of first\", n, \"number is\", sum)"
   ]
  },
  {
   "cell_type": "markdown",
   "metadata": {},
   "source": []
  },
  {
   "cell_type": "code",
   "execution_count": 23,
   "metadata": {},
   "outputs": [],
   "source": [
    "file = open('sumofnnumber.ipynb', mode = 'w')"
   ]
  }
 ],
 "metadata": {
  "interpreter": {
   "hash": "188ea305bed457352374bdaff455186876d57e2aa492e1e00ee170b32ea9fa83"
  },
  "kernelspec": {
   "display_name": "Python 3.10.2 64-bit",
   "language": "python",
   "name": "python3"
  },
  "language_info": {
   "codemirror_mode": {
    "name": "ipython",
    "version": 3
   },
   "file_extension": ".py",
   "mimetype": "text/x-python",
   "name": "python",
   "nbconvert_exporter": "python",
   "pygments_lexer": "ipython3",
   "version": "3.10.2"
  },
  "orig_nbformat": 4
 },
 "nbformat": 4,
 "nbformat_minor": 2
}
